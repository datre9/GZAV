{
 "cells": [
  {
   "cell_type": "code",
   "execution_count": 3,
   "metadata": {},
   "outputs": [],
   "source": [
    "import cv2\n",
    "import mediapipe as mp\n",
    "import yt_dlp\n",
    "import os"
   ]
  },
  {
   "cell_type": "code",
   "execution_count": 4,
   "metadata": {},
   "outputs": [],
   "source": [
    "def downloadYouTubeVideo(url, outputPath='video'):\n",
    "    os.makedirs(outputPath, exist_ok=True)\n",
    "    \n",
    "    ydl_opts = {\n",
    "        'format': 'bestvideo[ext=mp4]+bestaudio[ext=m4a]/best[ext=mp4]/best',\n",
    "        'outtmpl': os.path.join(outputPath, '%(title)s.%(ext)s'),\n",
    "        'nooverwrites': True,\n",
    "        'no_color': True,\n",
    "    }\n",
    "    \n",
    "    try:\n",
    "        with yt_dlp.YoutubeDL(ydl_opts) as ydl:\n",
    "            infoDict = ydl.extract_info(url, download=True)\n",
    "            \n",
    "            videoFileName = ydl.prepare_filename(infoDict)\n",
    "            print(f\"Downloaded video: {videoFileName}\")\n",
    "            \n",
    "            return videoFileName\n",
    "    except Exception as e:\n",
    "        print(f\"Failed to download video: {e}\")\n",
    "        return None"
   ]
  },
  {
   "cell_type": "code",
   "execution_count": 6,
   "metadata": {},
   "outputs": [],
   "source": [
    "def detectHandsInVideo(videoPath):\n",
    "    mpHands = mp.solutions.hands\n",
    "    mpDrawing = mp.solutions.drawing_utils\n",
    "    \n",
    "    cap = cv2.VideoCapture(videoPath)\n",
    "    \n",
    "    with mpHands.Hands(\n",
    "        static_image_mode=False,\n",
    "        max_num_hands=2,\n",
    "        min_detection_confidence=0.5,\n",
    "        min_tracking_confidence=0.5) as hands:\n",
    "        \n",
    "        while cap.isOpened():\n",
    "            success, frame = cap.read()\n",
    "            if not success:\n",
    "                break\n",
    "            \n",
    "            frameRGB = cv2.cvtColor(frame, cv2.COLOR_BGR2RGB)\n",
    "            \n",
    "            results = hands.process(frameRGB)\n",
    "            \n",
    "            if results.multi_hand_landmarks:\n",
    "                for handLandmarks in results.multi_hand_landmarks:\n",
    "                    \n",
    "                    mpDrawing.draw_landmarks(frame, handLandmarks, mpHands.HAND_CONNECTIONS)\n",
    "            cv2.imshow('Hand tracking', frame)\n",
    "            \n",
    "            if cv2.waitKey(1) & 0xFF == ord('q'):\n",
    "                break\n",
    "        cap.release()\n",
    "        cv2.destroyAllWindows()"
   ]
  },
  {
   "cell_type": "code",
   "execution_count": 7,
   "metadata": {},
   "outputs": [
    {
     "name": "stdout",
     "output_type": "stream",
     "text": [
      "[youtube] Extracting URL: https://www.youtube.com/watch?v=E5yqDCLBRQk\n",
      "[youtube] E5yqDCLBRQk: Downloading webpage\n",
      "[youtube] E5yqDCLBRQk: Downloading tv client config\n",
      "[youtube] E5yqDCLBRQk: Downloading player 643afba4\n",
      "[youtube] E5yqDCLBRQk: Downloading tv player API JSON\n",
      "[youtube] E5yqDCLBRQk: Downloading ios player API JSON\n",
      "[youtube] E5yqDCLBRQk: Downloading m3u8 information\n",
      "[info] E5yqDCLBRQk: Downloading 1 format(s): 299+140\n",
      "[download] video\\Aníron - The Lord of the Rings： The Fellowship of the Ring Piano Cover.mp4 has already been downloaded\n",
      "Downloaded video: video\\Aníron - The Lord of the Rings： The Fellowship of the Ring Piano Cover.mp4\n"
     ]
    }
   ],
   "source": [
    "def main():\n",
    "    ytUrl = 'https://www.youtube.com/watch?v=E5yqDCLBRQk'\n",
    "    \n",
    "    videoPath = downloadYouTubeVideo(ytUrl)\n",
    "    \n",
    "    if videoPath:\n",
    "        try:\n",
    "            detectHandsInVideo(videoPath)\n",
    "        except Exception as e:\n",
    "            print(f\"Failed to detect hands in video: {e}\")\n",
    "\n",
    "if __name__ == \"__main__\":\n",
    "    main()"
   ]
  }
 ],
 "metadata": {
  "kernelspec": {
   "display_name": "mediapipe-env",
   "language": "python",
   "name": "python3"
  },
  "language_info": {
   "codemirror_mode": {
    "name": "ipython",
    "version": 3
   },
   "file_extension": ".py",
   "mimetype": "text/x-python",
   "name": "python",
   "nbconvert_exporter": "python",
   "pygments_lexer": "ipython3",
   "version": "3.10.16"
  }
 },
 "nbformat": 4,
 "nbformat_minor": 2
}
