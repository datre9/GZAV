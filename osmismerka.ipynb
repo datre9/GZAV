{
 "cells": [
  {
   "cell_type": "code",
   "execution_count": 1,
   "metadata": {},
   "outputs": [],
   "source": [
    "import pytesseract\n",
    "import cv2\n",
    "import regex as re"
   ]
  },
  {
   "cell_type": "code",
   "execution_count": 2,
   "metadata": {},
   "outputs": [],
   "source": [
    "row_length = 8"
   ]
  },
  {
   "cell_type": "code",
   "execution_count": 3,
   "metadata": {},
   "outputs": [],
   "source": [
    "img = cv2.imread('resources/osmismerka.jpg')\n",
    "baseImg = img.copy()\n",
    "\n",
    "# Preprocessing\n",
    "gray = cv2.cvtColor(img, cv2.COLOR_BGR2GRAY)\n",
    "blur = cv2.GaussianBlur(gray, (7, 7), 0)\n",
    "thresh = cv2.threshold(blur, 0, 255, cv2.THRESH_BINARY_INV + cv2.THRESH_OTSU)[1]\n",
    "kernel = cv2.getStructuringElement(cv2.MORPH_RECT, (3, 3))\n",
    "dilated = cv2.dilate(thresh, kernel, iterations=1)"
   ]
  },
  {
   "cell_type": "code",
   "execution_count": 4,
   "metadata": {},
   "outputs": [],
   "source": [
    "# Find contours\n",
    "cnts = cv2.findContours(dilated, cv2.RETR_EXTERNAL, cv2.CHAIN_APPROX_SIMPLE)\n",
    "cnts = cnts[0] if len(cnts) == 2 else cnts[1]\n",
    "\n",
    "# Group contours into rows\n",
    "def group_contours_by_rows(contours, row_threshold=10):\n",
    "    rows = []\n",
    "    for c in contours:\n",
    "        x, y, w, h = cv2.boundingRect(c)\n",
    "        added = False\n",
    "        for row in rows:\n",
    "            # Check if the contour belongs to an existing row\n",
    "            if abs(row[0][1] - y) < row_threshold:\n",
    "                row.append((x, y, w, h, c))\n",
    "                added = True\n",
    "                break\n",
    "        if not added:\n",
    "            # Create a new row if no existing row matches\n",
    "            rows.append([(x, y, w, h, c)])\n",
    "    return rows\n",
    "\n",
    "# Group contours into rows and sort them\n",
    "rows = group_contours_by_rows(cnts)\n",
    "rows = sorted(rows, key=lambda row: row[0][1])\n",
    "\n",
    "# Sort contours in each row by x-coordinate\n",
    "sorted_contours = []\n",
    "for row in rows:\n",
    "    row = sorted(row, key=lambda item: item[0])\n",
    "    sorted_contours.extend([item[4] for item in row])\n",
    "\n",
    "letters = []\n",
    "\n",
    "# Extract letters\n",
    "for c in sorted_contours:\n",
    "    x, y, w, h = cv2.boundingRect(c)\n",
    "    letters.append(img[y-3:y+3 + h, x-3:x+3 + w])\n",
    "    # cv2.rectangle(img, (x, y), (x + w, y + h), (0, 255, 0), 2)\n",
    "\n",
    "# Display letters\n",
    "# for i, letter in enumerate(letters):\n",
    "#     cv2.imshow('Letter', letter)\n",
    "#     cv2.waitKey(0)\n",
    "#     cv2.destroyAllWindows()"
   ]
  },
  {
   "cell_type": "code",
   "execution_count": 5,
   "metadata": {},
   "outputs": [],
   "source": [
    "# Highlight the find in the original image\n",
    "def draw_line (baseImg, contour1, contour2):\n",
    "    x1, y1, w1, h1 = cv2.boundingRect(contour1)\n",
    "    x2, y2, w2, h2 = cv2.boundingRect(contour2)\n",
    "    cv2.line(baseImg, (int(x1 + 0.5 * w1), int(y1 + 0.5 * h1)), (int(x2 + 0.5 * w2), int(y2 + 0.5 * h2)), (0, 0, 255), 3, lineType=cv2.LINE_AA)\n",
    "    cv2.imshow('Letter', baseImg)\n",
    "    cv2.waitKey(0)\n",
    "    cv2.destroyAllWindows()"
   ]
  },
  {
   "cell_type": "code",
   "execution_count": 6,
   "metadata": {},
   "outputs": [],
   "source": [
    "# draw_line(baseImg.copy(), sorted_contours[0], sorted_contours[10])"
   ]
  },
  {
   "cell_type": "code",
   "execution_count": 7,
   "metadata": {},
   "outputs": [
    {
     "name": "stdout",
     "output_type": "stream",
     "text": [
      "L L C E I M B K \n",
      "E R O B O T A E \n",
      "T Y H D F K A D \n",
      "A Z C S N K U I \n",
      "D T P E T X I V \n",
      "L N N S K R V D \n",
      "O A O V L A K E \n",
      "P K A U T O B M \n"
     ]
    }
   ],
   "source": [
    "text = ''\n",
    "row_number = round(len(letters) / row_length)\n",
    "letterArray = [[0 for x in range(row_length)] for y in range(row_number)]\n",
    "row = 0\n",
    "\n",
    "for i, letter in enumerate(letters):\n",
    "    if i % row_length == 0 and i != 0:\n",
    "        text += '\\n'\n",
    "        row += 1\n",
    "    add = pytesseract.image_to_string(letter, lang='eng', config='--psm 10').strip()\n",
    "    if '|' in add:\n",
    "        add = 'I'\n",
    "    elif '(' in add:\n",
    "        add = 'C'\n",
    "    elif len(add) > 1:\n",
    "        add = add[0].upper()\n",
    "    else:\n",
    "        add = add.upper()\n",
    "    letterArray[row][i % row_length] = add\n",
    "    text += add + ' '\n",
    "\n",
    "print(text)"
   ]
  },
  {
   "cell_type": "code",
   "execution_count": 8,
   "metadata": {},
   "outputs": [],
   "source": [
    "def transpose_array(array):\n",
    "    return [list(row) for row in zip(*array)]"
   ]
  },
  {
   "cell_type": "code",
   "execution_count": 9,
   "metadata": {},
   "outputs": [],
   "source": [
    "def get_index_of_letter(coordinates):\n",
    "    return coordinates[0] + coordinates[1] * row_length"
   ]
  },
  {
   "cell_type": "code",
   "execution_count": 10,
   "metadata": {},
   "outputs": [],
   "source": [
    "# Returns the indexes of the first and last letter of the word in the array\n",
    "# Can be used for searching vertically when the array is transposed\n",
    "def horizontal_array_search(array, word, transposed):\n",
    "    regex = re.compile(word)\n",
    "    for i in range(row_number):\n",
    "        concat = ''\n",
    "        \n",
    "        # Create a string from row\n",
    "        for j in range(row_length):\n",
    "            concat += array[i][j]\n",
    "        \n",
    "        # Search forward\n",
    "        match = re.search(regex, concat)\n",
    "        if match:\n",
    "            if transposed:\n",
    "                return (get_index_of_letter((i, match.start())), get_index_of_letter((i, match.end() - 1)))\n",
    "            return (get_index_of_letter((match.start(), i)), get_index_of_letter((match.end() - 1, i)))\n",
    "        \n",
    "        # Search backward\n",
    "        concat = concat[::-1]\n",
    "        match = re.search(regex, concat)\n",
    "        if match:\n",
    "            if transposed:\n",
    "                return (get_index_of_letter((i, row_length - match.end())), get_index_of_letter((i, row_length - match.start() - 1)))\n",
    "            return (get_index_of_letter((row_length - match.end(), i)), get_index_of_letter((row_length - match.start() - 1, i)))"
   ]
  },
  {
   "cell_type": "code",
   "execution_count": 11,
   "metadata": {},
   "outputs": [],
   "source": [
    "def search(word):\n",
    "    word = word.upper()\n",
    "    \n",
    "    # Search horizontally\n",
    "    indexes = horizontal_array_search(letterArray, word, False)\n",
    "    \n",
    "    # Search vertically\n",
    "    if indexes is None:\n",
    "        letterArrayT = transpose_array(letterArray)\n",
    "        indexes = horizontal_array_search(letterArrayT, word, True)\n",
    "    \n",
    "    # Highlight result\n",
    "    if indexes is not None:\n",
    "        draw_line(baseImg.copy(), sorted_contours[indexes[0]], sorted_contours[indexes[1]])\n",
    "    else:\n",
    "        print(\"Word not found\")"
   ]
  },
  {
   "cell_type": "code",
   "execution_count": 14,
   "metadata": {},
   "outputs": [],
   "source": [
    "search(\"ROBOT\")"
   ]
  }
 ],
 "metadata": {
  "kernelspec": {
   "display_name": "7gzav-env",
   "language": "python",
   "name": "python3"
  },
  "language_info": {
   "codemirror_mode": {
    "name": "ipython",
    "version": 3
   },
   "file_extension": ".py",
   "mimetype": "text/x-python",
   "name": "python",
   "nbconvert_exporter": "python",
   "pygments_lexer": "ipython3",
   "version": "3.13.2"
  }
 },
 "nbformat": 4,
 "nbformat_minor": 2
}
