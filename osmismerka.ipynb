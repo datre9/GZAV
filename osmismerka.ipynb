{
 "cells": [
  {
   "cell_type": "markdown",
   "metadata": {},
   "source": [
    "### Řešení čtyřsměrek pomocí optical character recognition (OCR)\n",
    "\n",
    "- Hlavním cílem tohoto projektu bude *vyhledání daného slova* v obrázku čtyřsměrky a jeho následné *vyznačení*.\n",
    "- OCR bude zajištěn knihovnou **pytesseract**.\n",
    "- Pro manipulaci s obrázkem bude použita knihovna **OpenCV**.\n",
    "- Samotné vyhledávání bude uskutečněno pomocí *regulárních výrazů*.\n",
    "\n",
    "![alt text](resources/osmismerka.jpg)"
   ]
  },
  {
   "cell_type": "code",
   "execution_count": 25,
   "metadata": {},
   "outputs": [],
   "source": [
    "import pytesseract\n",
    "import cv2\n",
    "import regex as re"
   ]
  },
  {
   "cell_type": "markdown",
   "metadata": {},
   "source": [
    "- `row_length` udává počet písmen v řádku. Je nutné ho nastavit pro správný běh programu.\n",
    "- Počet řádků už bude dopočítán."
   ]
  },
  {
   "cell_type": "code",
   "execution_count": 26,
   "metadata": {},
   "outputs": [],
   "source": [
    "row_length = 8"
   ]
  },
  {
   "cell_type": "markdown",
   "metadata": {},
   "source": [
    "### Preprocessing\n",
    "\n",
    "- Po načtení obrázku a vytvoření jeho kopie je nutné extrahovat jednotlivá písmena.\n",
    "- Pro maximální úspěšnost tohoto korku se originální obrázek předpřipraví:\n",
    "1. Převede se do černobílé\n",
    "2. Aplikuje se rozostření\n",
    "3. Provede se práhování\n",
    "4. Připraví se matice pro následující krok\n",
    "5. Uskuteční se dilatace, což roztáhne plochy, aby se uzavřely malé dírky"
   ]
  },
  {
   "cell_type": "code",
   "execution_count": 27,
   "metadata": {},
   "outputs": [],
   "source": [
    "img = cv2.imread('resources/osmismerka.jpg')\n",
    "baseImg = img.copy()\n",
    "\n",
    "# Preprocessing\n",
    "gray = cv2.cvtColor(img, cv2.COLOR_BGR2GRAY)\n",
    "blur = cv2.GaussianBlur(gray, (7, 7), 0)\n",
    "thresh = cv2.threshold(blur, 0, 255, cv2.THRESH_BINARY_INV + cv2.THRESH_OTSU)[1]\n",
    "kernel = cv2.getStructuringElement(cv2.MORPH_RECT, (3, 3))\n",
    "dilated = cv2.dilate(thresh, kernel, iterations=1)"
   ]
  },
  {
   "cell_type": "markdown",
   "metadata": {},
   "source": [
    "### Extrakce a uspořádání písmen\n",
    "\n",
    "- Najdou se kontury, které ohraničují jednotlivá písmena.\n",
    "- Tyto kontury so následně uspořádají tak, aby bylo možné vytvořit dvojrozměrné pole reprezentující čtyřsměrku.\n",
    "- Nakonec se samotná písmena vyřežou a uloží ve 1D poli `letters`, kde jdou po řádcích jeden za druhým."
   ]
  },
  {
   "cell_type": "code",
   "execution_count": null,
   "metadata": {},
   "outputs": [],
   "source": [
    "# Find contours\n",
    "cnts = cv2.findContours(dilated, cv2.RETR_EXTERNAL, cv2.CHAIN_APPROX_SIMPLE)\n",
    "cnts = cnts[0] if len(cnts) == 2 else cnts[1]\n",
    "\n",
    "# Group contours into rows\n",
    "def group_contours_by_rows(contours, row_threshold=10):\n",
    "    rows = []\n",
    "    for c in contours:\n",
    "        x, y, w, h = cv2.boundingRect(c)\n",
    "        added = False\n",
    "        for row in rows:\n",
    "            # Check if the contour belongs to an existing row\n",
    "            if abs(row[0][1] - y) < row_threshold:\n",
    "                row.append((x, y, w, h, c))\n",
    "                added = True\n",
    "                break\n",
    "        if not added:\n",
    "            # Create a new row if no existing row matches\n",
    "            rows.append([(x, y, w, h, c)])\n",
    "    return rows\n",
    "\n",
    "# Group contours into rows and sort them\n",
    "rows = group_contours_by_rows(cnts)\n",
    "rows = sorted(rows, key=lambda row: row[0][1])\n",
    "\n",
    "# Sort contours in each row by x-coordinate\n",
    "sorted_contours = []\n",
    "for row in rows:\n",
    "    row = sorted(row, key=lambda item: item[0])\n",
    "    sorted_contours.extend([item[4] for item in row])\n",
    "\n",
    "letters = []\n",
    "\n",
    "# Extract letters\n",
    "for c in sorted_contours:\n",
    "    x, y, w, h = cv2.boundingRect(c)\n",
    "    letters.append(img[y-3:y+3 + h, x-3:x+3 + w])\n",
    "\n",
    "# Display letters\n",
    "# for i, letter in enumerate(letters):\n",
    "#     cv2.imshow('Letter', letter)\n",
    "#     cv2.waitKey(0)\n",
    "#     cv2.destroyAllWindows()"
   ]
  },
  {
   "cell_type": "markdown",
   "metadata": {},
   "source": [
    "- Funkce, která úsečkou vyznačí výsledek."
   ]
  },
  {
   "cell_type": "code",
   "execution_count": 29,
   "metadata": {},
   "outputs": [],
   "source": [
    "# Highlight the find in the original image\n",
    "def draw_line (baseImg, contour1, contour2):\n",
    "    x1, y1, w1, h1 = cv2.boundingRect(contour1)\n",
    "    x2, y2, w2, h2 = cv2.boundingRect(contour2)\n",
    "    cv2.line(baseImg, (int(x1 + 0.5 * w1), int(y1 + 0.5 * h1)), (int(x2 + 0.5 * w2), int(y2 + 0.5 * h2)), (0, 0, 255), 3, lineType=cv2.LINE_AA)\n",
    "    cv2.imshow('Letter', baseImg)\n",
    "    cv2.waitKey(0)\n",
    "    cv2.destroyAllWindows()"
   ]
  },
  {
   "cell_type": "markdown",
   "metadata": {},
   "source": [
    "### OCR\n",
    "\n",
    "- Zde se již provádí samotné \"čtení\" znaků.\n",
    "- Důležitá je konfigurace `--psm 10`, která dá vědět, že se jedná a samostatná písmena.\n",
    "- Následně se opraví některé klasické chyby v rozpoznání.\n",
    "- Výsledek se pak uloží do 2D pole stringů."
   ]
  },
  {
   "cell_type": "code",
   "execution_count": 30,
   "metadata": {},
   "outputs": [],
   "source": [
    "row_number = round(len(letters) / row_length)\n",
    "letterArray = [[0 for x in range(row_length)] for y in range(row_number)]\n",
    "row = 0\n",
    "\n",
    "for i, letter in enumerate(letters):\n",
    "    if i % row_length == 0 and i != 0:\n",
    "        row += 1\n",
    "    add = pytesseract.image_to_string(letter, lang='eng', config='--psm 10').strip()\n",
    "    if '|' in add:\n",
    "        add = 'I'\n",
    "    elif '(' in add:\n",
    "        add = 'C'\n",
    "    elif len(add) > 1:\n",
    "        add = add[0].upper()\n",
    "    else:\n",
    "        add = add.upper()\n",
    "    letterArray[row][i % row_length] = add"
   ]
  },
  {
   "cell_type": "markdown",
   "metadata": {},
   "source": [
    "- Funkce na transponování matice."
   ]
  },
  {
   "cell_type": "code",
   "execution_count": 31,
   "metadata": {},
   "outputs": [],
   "source": [
    "def transpose_array(array):\n",
    "    return [list(row) for row in zip(*array)]"
   ]
  },
  {
   "cell_type": "markdown",
   "metadata": {},
   "source": [
    "- Funkce na vypočítání indexu v poli `sorted_contours` podle souřadnic písmene ve 2D poli.\n",
    "- Tento index je důležity pro zakreslení výsledku."
   ]
  },
  {
   "cell_type": "code",
   "execution_count": 32,
   "metadata": {},
   "outputs": [],
   "source": [
    "def get_index_of_letter(coordinates):\n",
    "    return coordinates[0] + coordinates[1] * row_length"
   ]
  },
  {
   "cell_type": "markdown",
   "metadata": {},
   "source": [
    "### Hledání slova\n",
    "\n",
    "- Tato funkce vrací index prvního a posledního písmene hledaného slova.\n",
    "- Jako vstup bere 2D pole písmen, hledané slova a zdali je matice (pole) transponované.\n",
    "- V normální konfiguraci funguje pro hledání horizontálně v obou směrech.\n",
    "- Když je `transposed == True`, tak tato funkce funguje i pro vyhledávání vertikálně oběma směry.\n",
    "- Mezi dvěma módy se liší pouze algoritmus pro vypočítání souřadnic písmena."
   ]
  },
  {
   "cell_type": "code",
   "execution_count": null,
   "metadata": {},
   "outputs": [],
   "source": [
    "# Returns the indexes of the first and last letter of the word in the array\n",
    "# Can be used for searching horizontally and vertically when the array is transposed\n",
    "def array_search(array, word, transposed):\n",
    "    regex = re.compile(word)\n",
    "    for i in range(row_number):\n",
    "        concat = ''\n",
    "        \n",
    "        # Create a string from row\n",
    "        for j in range(row_length):\n",
    "            concat += array[i][j]\n",
    "        \n",
    "        # Search forward\n",
    "        match = re.search(regex, concat)\n",
    "        if match:\n",
    "            if transposed:\n",
    "                return (get_index_of_letter((i, match.start())), get_index_of_letter((i, match.end() - 1)))\n",
    "            return (get_index_of_letter((match.start(), i)), get_index_of_letter((match.end() - 1, i)))\n",
    "        \n",
    "        # Search backward\n",
    "        concat = concat[::-1]\n",
    "        match = re.search(regex, concat)\n",
    "        if match:\n",
    "            if transposed:\n",
    "                return (get_index_of_letter((i, row_length - match.end())), get_index_of_letter((i, row_length - match.start() - 1)))\n",
    "            return (get_index_of_letter((row_length - match.end(), i)), get_index_of_letter((row_length - match.start() - 1, i)))"
   ]
  },
  {
   "cell_type": "markdown",
   "metadata": {},
   "source": [
    "### Finále\n",
    "\n",
    "-Tato funkce zaštiťuje hledání všemi čtyřmi směry a následné vyznačení výsledku."
   ]
  },
  {
   "cell_type": "code",
   "execution_count": null,
   "metadata": {},
   "outputs": [],
   "source": [
    "def search(word):\n",
    "    word = word.upper()\n",
    "    \n",
    "    # Search horizontally\n",
    "    indexes = array_search(letterArray, word, False)\n",
    "    \n",
    "    # Search vertically\n",
    "    if indexes is None:\n",
    "        letterArrayT = transpose_array(letterArray)\n",
    "        indexes = array_search(letterArrayT, word, True)\n",
    "    \n",
    "    # Highlight result\n",
    "    if indexes is not None:\n",
    "        draw_line(baseImg.copy(), sorted_contours[indexes[0]], sorted_contours[indexes[1]])\n",
    "    else:\n",
    "        print(\"Word not found\")"
   ]
  },
  {
   "cell_type": "code",
   "execution_count": 35,
   "metadata": {},
   "outputs": [],
   "source": [
    "search(\"ROBOT\")"
   ]
  }
 ],
 "metadata": {
  "kernelspec": {
   "display_name": "7gzav-env",
   "language": "python",
   "name": "python3"
  },
  "language_info": {
   "codemirror_mode": {
    "name": "ipython",
    "version": 3
   },
   "file_extension": ".py",
   "mimetype": "text/x-python",
   "name": "python",
   "nbconvert_exporter": "python",
   "pygments_lexer": "ipython3",
   "version": "3.13.2"
  }
 },
 "nbformat": 4,
 "nbformat_minor": 2
}
